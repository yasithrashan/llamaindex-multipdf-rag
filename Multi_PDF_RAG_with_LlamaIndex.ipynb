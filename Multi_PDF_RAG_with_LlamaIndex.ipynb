{
  "nbformat": 4,
  "nbformat_minor": 0,
  "metadata": {
    "colab": {
      "provenance": []
    },
    "kernelspec": {
      "name": "python3",
      "display_name": "Python 3"
    },
    "language_info": {
      "name": "python"
    }
  },
  "cells": [
    {
      "cell_type": "code",
      "source": [
        "!pip install -q llama-index pypdf\n",
        "!pip install -q llama-index-embeddings-gemini\n",
        "!pip install -q llama-index-llms-gemini"
      ],
      "metadata": {
        "id": "M-Mp4AXecVRz"
      },
      "execution_count": null,
      "outputs": []
    },
    {
      "cell_type": "code",
      "source": [
        "from pathlib import Path\n",
        "import os\n",
        "from google.colab import userdata\n",
        "from llama_index.core import VectorStoreIndex, SimpleDirectoryReader, Settings\n",
        "from llama_index.core.storage import StorageContext\n",
        "from llama_index.core.node_parser import SentenceSplitter\n",
        "from llama_index.embeddings.gemini import GeminiEmbedding\n",
        "from llama_index.llms.gemini import Gemini\n",
        "from llama_index.core import load_index_from_storage"
      ],
      "metadata": {
        "id": "iSM0j7GlcV5w"
      },
      "execution_count": null,
      "outputs": []
    },
    {
      "cell_type": "code",
      "source": [
        "API_KEY = userdata.get('geminiapikey')"
      ],
      "metadata": {
        "id": "eJH85P4Rcxlq"
      },
      "execution_count": null,
      "outputs": []
    },
    {
      "cell_type": "code",
      "source": [
        "pdf_directory = ['/content/part-1.pdf','/content/part-2.pdf']"
      ],
      "metadata": {
        "id": "nAEnhkoUc9ql"
      },
      "execution_count": null,
      "outputs": []
    },
    {
      "cell_type": "code",
      "source": [
        "persist_dir = \"./storage\""
      ],
      "metadata": {
        "id": "TwGDiSB9hGjQ"
      },
      "execution_count": null,
      "outputs": []
    },
    {
      "cell_type": "code",
      "source": [
        "chunk_size = 1024"
      ],
      "metadata": {
        "id": "NWdiog-RhKT7"
      },
      "execution_count": null,
      "outputs": []
    },
    {
      "cell_type": "code",
      "source": [
        "Path(persist_dir).mkdir(exist_ok=True)"
      ],
      "metadata": {
        "id": "5Ry2cZDFhQva"
      },
      "execution_count": null,
      "outputs": []
    },
    {
      "cell_type": "code",
      "source": [
        "Settings.embed_model = GeminiEmbedding(\n",
        "    model_name=\"models/embedding-001\", api_key=API_KEY\n",
        ")"
      ],
      "metadata": {
        "id": "uSYJkwZ5hTwn"
      },
      "execution_count": null,
      "outputs": []
    },
    {
      "cell_type": "code",
      "source": [
        "Settings.llm = Gemini(api_key=API_KEY, model_name=\"models/gemini-2.5-flash\")\n",
        "Settings.text_splitter = SentenceSplitter(chunk_size=chunk_size)\n",
        "Settings.chunk_size = chunk_size"
      ],
      "metadata": {
        "id": "rbikLmhWh-BZ"
      },
      "execution_count": null,
      "outputs": []
    },
    {
      "cell_type": "code",
      "source": [
        "def load_or_create_index():\n",
        "    \"\"\"Load existing index or create new one if it doesn't exist\"\"\"\n",
        "    if not os.listdir(persist_dir):\n",
        "        print(\"Creating new index...\")\n",
        "        # Load PDF documents\n",
        "        documents = SimpleDirectoryReader(input_files=pdf_directory).load_data()\n",
        "\n",
        "        # Create and persist index\n",
        "        index = VectorStoreIndex.from_documents(\n",
        "            documents, show_progress=True\n",
        "        )\n",
        "        index.storage_context.persist(persist_dir=persist_dir)\n",
        "    else:\n",
        "        print(\"Loading existing index...\")\n",
        "        storage_context = StorageContext.from_defaults(persist_dir=persist_dir)\n",
        "        index = load_index_from_storage(storage_context)\n",
        "\n",
        "    return index"
      ],
      "metadata": {
        "id": "SJrBk0FIiKjN"
      },
      "execution_count": null,
      "outputs": []
    },
    {
      "cell_type": "code",
      "source": [
        "index = load_or_create_index()"
      ],
      "metadata": {
        "id": "t9JgGVI2iv8D"
      },
      "execution_count": null,
      "outputs": []
    },
    {
      "cell_type": "code",
      "source": [
        "def query_pdfs(question):\n",
        "    \"\"\"Query the PDF knowledge base\"\"\"\n",
        "    query_engine = index.as_query_engine(\n",
        "        similarity_top_k=3,\n",
        "        response_mode=\"compact\",\n",
        "        verbose=True\n",
        "    )\n",
        "    response = query_engine.query(question)\n",
        "    return response"
      ],
      "metadata": {
        "id": "qCK5kSE6iwsG"
      },
      "execution_count": null,
      "outputs": []
    },
    {
      "cell_type": "code",
      "source": [
        "response = query_pdfs(\"What challenges do the heroes face on their journey to recover the Crystal of Lumina?\")\n",
        "print(response)"
      ],
      "metadata": {
        "id": "aDEfJTz9jB6C"
      },
      "execution_count": null,
      "outputs": []
    },
    {
      "cell_type": "code",
      "source": [],
      "metadata": {
        "id": "-dLsD94NjJ7T"
      },
      "execution_count": null,
      "outputs": []
    }
  ]
}